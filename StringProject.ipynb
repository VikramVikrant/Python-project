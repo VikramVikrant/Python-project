{
 "cells": [
  {
   "cell_type": "code",
   "execution_count": 2,
   "metadata": {},
   "outputs": [
    {
     "name": "stdout",
     "output_type": "stream",
     "text": [
      "Enter the string of words:In which Dudley gets his new uniform and a letter arrives for Harry, which Uncle Vernon destroys – prompting a veritable deluge of letters over the next few days. Uncle Vernon then attempts to outrun the delivery of the letters and eventually takes his family to an abandoned hut on an island in the ocean.\n",
      "{'i': 13, 'n': 24, 'w': 4, 'h': 10, 'c': 5, 'd': 11, 'u': 5, 'l': 13, 'e': 35, 'y': 7, 'g': 3, 't': 25, 's': 12, 'f': 6, 'o': 15, 'r': 17, 'm': 4, 'a': 18, 'v': 3, 'p': 3, 'b': 2, 'x': 1, 'k': 1}\n"
     ]
    }
   ],
   "source": [
    "word=input('Enter the string of words:')\n",
    "letter_count={}\n",
    "for character in word:\n",
    "    letter_count[character.lower()]=letter_count.get(character,0) + 1\n",
    "letter_count_clean={}\n",
    "for k,v in letter_count.items():\n",
    "    if k.isalpha():\n",
    "        letter_count_clean[k]=v\n",
    "print(letter_count_clean)        "
   ]
  },
  {
   "cell_type": "code",
   "execution_count": 4,
   "metadata": {},
   "outputs": [
    {
     "data": {
      "image/png": "[encoded data removed]",
      "text/plain": [
       "<Figure size 432x288 with 1 Axes>"
      ]
     },
     "metadata": {
      "needs_background": "light"
     },
     "output_type": "display_data"
    }
   ],
   "source": [
    "import matplotlib.pyplot as plt\n",
    "a,b=zip(*letter_count_clean.items())\n",
    "plt.bar(a,b)\n",
    "plt.show()"
   ]
  }
 ],
 "metadata": {
  "kernelspec": {
   "display_name": "Python 3",
   "language": "python",
   "name": "python3"
  },
  "language_info": {
   "codemirror_mode": {
    "name": "ipython",
    "version": 3
   },
   "file_extension": ".py",
   "mimetype": "text/x-python",
   "name": "python",
   "nbconvert_exporter": "python",
   "pygments_lexer": "ipython3",
   "version": "3.7.3"
  }
 },
 "nbformat": 4,
 "nbformat_minor": 2
}
